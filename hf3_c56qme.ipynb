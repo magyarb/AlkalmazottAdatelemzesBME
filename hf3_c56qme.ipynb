{
 "cells": [
  {
   "cell_type": "code",
   "execution_count": 640,
   "metadata": {
    "collapsed": false
   },
   "outputs": [],
   "source": [
    "#csak akkor szabad futtatni, ha kész a debug\n",
    "import warnings\n",
    "warnings.filterwarnings('ignore')\n",
    "#szintén\n",
    "random.seed(1)"
   ]
  },
  {
   "cell_type": "code",
   "execution_count": 625,
   "metadata": {
    "collapsed": false
   },
   "outputs": [],
   "source": [
    "%matplotlib inline\n",
    "import json\n",
    "import sys\n",
    "import pandas as pd\n",
    "import numpy as np\n",
    "import random\n",
    "import matplotlib.pyplot as plt\n",
    "from scipy import stats\n",
    "from scipy.stats import zscore\n",
    "from sklearn.cluster import AgglomerativeClustering\n",
    "from sklearn.metrics import silhouette_samples, silhouette_score\n",
    "from sklearn import decomposition\n",
    "from sklearn import datasets\n",
    "from sklearn.decomposition import PCA\n",
    "import sklearn.ensemble as ens\n",
    "from sklearn.metrics import roc_curve as roc\n",
    "from sklearn.metrics import auc\n",
    "from sklearn.metrics import roc_auc_score as auc_score\n",
    "from sklearn.metrics import accuracy_score as acc\n",
    "from sklearn.preprocessing import StandardScaler\n",
    "from sklearn.datasets import make_moons, make_circles, make_classification\n",
    "from sklearn.neighbors import KNeighborsClassifier\n",
    "from sklearn.svm import SVC\n",
    "from sklearn.tree import DecisionTreeClassifier\n",
    "from sklearn.ensemble import RandomForestClassifier, AdaBoostClassifier\n",
    "from sklearn.naive_bayes import GaussianNB\n",
    "import sklearn.cross_validation as xval\n",
    "from sklearn import cross_validation\n",
    "from sklearn.cross_validation import train_test_split"
   ]
  },
  {
   "cell_type": "markdown",
   "metadata": {},
   "source": [
    "## Adatok beolvasása"
   ]
  },
  {
   "cell_type": "code",
   "execution_count": 626,
   "metadata": {
    "collapsed": false
   },
   "outputs": [],
   "source": [
    "data = pd.read_csv(\"input_data/ticdata2000.txt\", sep='\t')"
   ]
  },
  {
   "cell_type": "code",
   "execution_count": 627,
   "metadata": {
    "collapsed": false,
    "scrolled": false
   },
   "outputs": [],
   "source": [
    "i=99\n",
    "for c in data.columns: \n",
    "    data = data.rename(columns={c: i})\n",
    "    i = i+1\n",
    "for c in data.columns:\n",
    "    data = data.rename(columns={c: c-98})\n",
    "    i = i+1\n",
    "data = data.rename(columns={86: 'CARAVAN'})"
   ]
  },
  {
   "cell_type": "code",
   "execution_count": 628,
   "metadata": {
    "collapsed": false
   },
   "outputs": [
    {
     "data": {
      "text/html": [
       "<div>\n",
       "<table border=\"1\" class=\"dataframe\">\n",
       "  <thead>\n",
       "    <tr style=\"text-align: right;\">\n",
       "      <th></th>\n",
       "      <th>1</th>\n",
       "      <th>2</th>\n",
       "      <th>3</th>\n",
       "      <th>4</th>\n",
       "      <th>5</th>\n",
       "      <th>6</th>\n",
       "      <th>7</th>\n",
       "      <th>8</th>\n",
       "      <th>9</th>\n",
       "      <th>10</th>\n",
       "      <th>...</th>\n",
       "      <th>77</th>\n",
       "      <th>78</th>\n",
       "      <th>79</th>\n",
       "      <th>80</th>\n",
       "      <th>81</th>\n",
       "      <th>82</th>\n",
       "      <th>83</th>\n",
       "      <th>84</th>\n",
       "      <th>85</th>\n",
       "      <th>CARAVAN</th>\n",
       "    </tr>\n",
       "  </thead>\n",
       "  <tbody>\n",
       "    <tr>\n",
       "      <th>0</th>\n",
       "      <td>37</td>\n",
       "      <td>1</td>\n",
       "      <td>2</td>\n",
       "      <td>2</td>\n",
       "      <td>8</td>\n",
       "      <td>1</td>\n",
       "      <td>4</td>\n",
       "      <td>1</td>\n",
       "      <td>4</td>\n",
       "      <td>6</td>\n",
       "      <td>...</td>\n",
       "      <td>0</td>\n",
       "      <td>0</td>\n",
       "      <td>0</td>\n",
       "      <td>1</td>\n",
       "      <td>0</td>\n",
       "      <td>0</td>\n",
       "      <td>0</td>\n",
       "      <td>0</td>\n",
       "      <td>0</td>\n",
       "      <td>0</td>\n",
       "    </tr>\n",
       "    <tr>\n",
       "      <th>1</th>\n",
       "      <td>37</td>\n",
       "      <td>1</td>\n",
       "      <td>2</td>\n",
       "      <td>2</td>\n",
       "      <td>8</td>\n",
       "      <td>0</td>\n",
       "      <td>4</td>\n",
       "      <td>2</td>\n",
       "      <td>4</td>\n",
       "      <td>3</td>\n",
       "      <td>...</td>\n",
       "      <td>0</td>\n",
       "      <td>0</td>\n",
       "      <td>0</td>\n",
       "      <td>1</td>\n",
       "      <td>0</td>\n",
       "      <td>0</td>\n",
       "      <td>0</td>\n",
       "      <td>0</td>\n",
       "      <td>0</td>\n",
       "      <td>0</td>\n",
       "    </tr>\n",
       "  </tbody>\n",
       "</table>\n",
       "<p>2 rows × 86 columns</p>\n",
       "</div>"
      ],
      "text/plain": [
       "    1  2  3  4  5  6  7  8  9  10   ...     77  78  79  80  81  82  83  84  \\\n",
       "0  37  1  2  2  8  1  4  1  4   6   ...      0   0   0   1   0   0   0   0   \n",
       "1  37  1  2  2  8  0  4  2  4   3   ...      0   0   0   1   0   0   0   0   \n",
       "\n",
       "   85  CARAVAN  \n",
       "0   0        0  \n",
       "1   0        0  \n",
       "\n",
       "[2 rows x 86 columns]"
      ]
     },
     "execution_count": 628,
     "metadata": {},
     "output_type": "execute_result"
    }
   ],
   "source": [
    "data.head(2)"
   ]
  },
  {
   "cell_type": "markdown",
   "metadata": {},
   "source": [
    "## Változók létrehozása"
   ]
  },
  {
   "cell_type": "code",
   "execution_count": 629,
   "metadata": {
    "collapsed": false,
    "scrolled": false
   },
   "outputs": [],
   "source": [
    "#először is egy olyan függvényt definiálok, amely az adathalmazból leválogatja a lakókocsi biztosítással rendelkezőket úgy,\n",
    "#hogy hisztogramra lehessen rakni gyorsan, tehát az indexeket sorba rendezi\n",
    "def getcara(data):\n",
    "    cara  = data[data['CARAVAN'] != 0]\n",
    "    cara['0'] = range(0, len(cara.index))\n",
    "    cara = cara.set_index('0')\n",
    "    cara = cara[cara['CARAVAN'] != None]\n",
    "    return cara"
   ]
  },
  {
   "cell_type": "markdown",
   "metadata": {},
   "source": [
    "### 1: Hány biztosítása van?\n",
    "Azt összegzi, hogy az ügyfélnek összesen hány biztosítása van. Azt feltételezem, hogy aki szeret sok mindenre biztosítást kötni, az fog lakókocsira is. Ezt bizonyítják a hisztogramok is."
   ]
  },
  {
   "cell_type": "code",
   "execution_count": 630,
   "metadata": {
    "collapsed": false
   },
   "outputs": [],
   "source": [
    "def osszead(row):\n",
    "    pol = 0\n",
    "    for x in range(64,85):\n",
    "        pol = pol + row[x]\n",
    "    return pol\n",
    "data['NumOfPolicies'] = data.apply(lambda row: osszead(row), axis = 1 )"
   ]
  },
  {
   "cell_type": "code",
   "execution_count": 631,
   "metadata": {
    "collapsed": false
   },
   "outputs": [
    {
     "data": {
      "image/png": "[encoded data removed]",
      "text/plain": [
       "<matplotlib.figure.Figure at 0x7f51250dcb38>"
      ]
     },
     "metadata": {},
     "output_type": "display_data"
    },
    {
     "data": {
      "image/png": "[encoded data removed]",
      "text/plain": [
       "<matplotlib.figure.Figure at 0x7f51250f1e10>"
      ]
     },
     "metadata": {},
     "output_type": "display_data"
    }
   ],
   "source": [
    "plt.hist(data['NumOfPolicies'], range=[0,10])\n",
    "plt.show()\n",
    "plt.hist(getcara(data)['NumOfPolicies'], range=[0,10])\n",
    "plt.show()"
   ]
  },
  {
   "cell_type": "markdown",
   "metadata": {},
   "source": [
    "### 2. MOSTYPE: Customer Subtype: kategorikus változó\n",
    "Látható, hogy pl. a 8-as (Middle class families) alkategóriába tartozók gyakrabban kötnek lakókocsira biztosítást. Érdemes ebből dummy változókat létrehozni."
   ]
  },
  {
   "cell_type": "code",
   "execution_count": 632,
   "metadata": {
    "collapsed": false
   },
   "outputs": [
    {
     "data": {
      "image/png": "[encoded data removed]",
      "text/plain": [
       "<matplotlib.figure.Figure at 0x7f51245e8748>"
      ]
     },
     "metadata": {},
     "output_type": "display_data"
    },
    {
     "data": {
      "image/png": "[encoded data removed]",
      "text/plain": [
       "<matplotlib.figure.Figure at 0x7f512474db70>"
      ]
     },
     "metadata": {},
     "output_type": "display_data"
    }
   ],
   "source": [
    "plt.hist(data[1], bins= 100)\n",
    "plt.show()\n",
    "plt.hist(getcara(data)[1], bins= 100)\n",
    "plt.show()\n",
    "#dummy változók létrehozása, többihez konkatenálása\n",
    "d2 = pd.get_dummies(data[1])\n",
    "for c in d2.columns:\n",
    "    d2 = d2.rename(columns={c: \"c\"+str(c)})\n",
    "d3 = pd.concat([data, d2], axis=1)"
   ]
  },
  {
   "cell_type": "markdown",
   "metadata": {},
   "source": [
    "### 3: képzettség\n",
    "Ez is befolyásolhatja a biztosítási kedvet. A változót ebből a 3 másikból rakom össze:\n",
    " - 16 MOPLHOOG High level education\n",
    " - 17 MOPLMIDD Medium level education\n",
    " - 18 MOPLLAAG Lower level education\n",
    "\n",
    "Több oktatási pontot kap az, ahol a 16., majd 17. oszlopban szerepel magas érték."
   ]
  },
  {
   "cell_type": "code",
   "execution_count": 633,
   "metadata": {
    "collapsed": false
   },
   "outputs": [
    {
     "data": {
      "image/png": "[encoded data removed]",
      "text/plain": [
       "<matplotlib.figure.Figure at 0x7f5124e3e278>"
      ]
     },
     "metadata": {},
     "output_type": "display_data"
    },
    {
     "data": {
      "image/png": "[encoded data removed]",
      "text/plain": [
       "<matplotlib.figure.Figure at 0x7f5122b74400>"
      ]
     },
     "metadata": {},
     "output_type": "display_data"
    }
   ],
   "source": [
    "def edu(row):\n",
    "    return row[16]*4+row[17]*2+row[18]\n",
    "d3['EducationLevel'] = d3.apply(lambda row: edu(row), axis = 1 )\n",
    "plt.hist(d3['EducationLevel'], bins= 100)\n",
    "plt.show()\n",
    "plt.hist(getcara(d3)['EducationLevel'], bins= 100)\n",
    "plt.show()"
   ]
  },
  {
   "cell_type": "markdown",
   "metadata": {},
   "source": [
    "### 4. bevétel:\n",
    "Ez létezik, nem csinálok vele semmit, csak használom."
   ]
  },
  {
   "cell_type": "code",
   "execution_count": 634,
   "metadata": {
    "collapsed": false
   },
   "outputs": [
    {
     "data": {
      "image/png": "[encoded data removed]",
      "text/plain": [
       "<matplotlib.figure.Figure at 0x7f512477efd0>"
      ]
     },
     "metadata": {},
     "output_type": "display_data"
    },
    {
     "data": {
      "image/png": "[encoded data removed]",
      "text/plain": [
       "<matplotlib.figure.Figure at 0x7f51250e8a90>"
      ]
     },
     "metadata": {},
     "output_type": "display_data"
    }
   ],
   "source": [
    "d3['AvgIncome'] = d3[42]\n",
    "plt.hist(d3['AvgIncome'], bins = 20, range=[0,10])\n",
    "plt.show()\n",
    "plt.hist(getcara(d3)['AvgIncome'], bins = 20, range=[0,10])\n",
    "plt.show()"
   ]
  },
  {
   "cell_type": "markdown",
   "metadata": {},
   "source": [
    "### Többi változó eldobása"
   ]
  },
  {
   "cell_type": "code",
   "execution_count": 635,
   "metadata": {
    "collapsed": false
   },
   "outputs": [
    {
     "data": {
      "text/html": [
       "<div>\n",
       "<table border=\"1\" class=\"dataframe\">\n",
       "  <thead>\n",
       "    <tr style=\"text-align: right;\">\n",
       "      <th></th>\n",
       "      <th>CARAVAN</th>\n",
       "      <th>NumOfPolicies</th>\n",
       "      <th>c1</th>\n",
       "      <th>c2</th>\n",
       "      <th>c3</th>\n",
       "      <th>c4</th>\n",
       "      <th>c5</th>\n",
       "      <th>c6</th>\n",
       "      <th>c7</th>\n",
       "      <th>c8</th>\n",
       "      <th>...</th>\n",
       "      <th>c34</th>\n",
       "      <th>c35</th>\n",
       "      <th>c36</th>\n",
       "      <th>c37</th>\n",
       "      <th>c38</th>\n",
       "      <th>c39</th>\n",
       "      <th>c40</th>\n",
       "      <th>c41</th>\n",
       "      <th>EducationLevel</th>\n",
       "      <th>AvgIncome</th>\n",
       "    </tr>\n",
       "  </thead>\n",
       "  <tbody>\n",
       "    <tr>\n",
       "      <th>0</th>\n",
       "      <td>0</td>\n",
       "      <td>3</td>\n",
       "      <td>0</td>\n",
       "      <td>0</td>\n",
       "      <td>0</td>\n",
       "      <td>0</td>\n",
       "      <td>0</td>\n",
       "      <td>0</td>\n",
       "      <td>0</td>\n",
       "      <td>0</td>\n",
       "      <td>...</td>\n",
       "      <td>0</td>\n",
       "      <td>0</td>\n",
       "      <td>0</td>\n",
       "      <td>1</td>\n",
       "      <td>0</td>\n",
       "      <td>0</td>\n",
       "      <td>0</td>\n",
       "      <td>0</td>\n",
       "      <td>14</td>\n",
       "      <td>5</td>\n",
       "    </tr>\n",
       "    <tr>\n",
       "      <th>1</th>\n",
       "      <td>0</td>\n",
       "      <td>3</td>\n",
       "      <td>0</td>\n",
       "      <td>0</td>\n",
       "      <td>0</td>\n",
       "      <td>0</td>\n",
       "      <td>0</td>\n",
       "      <td>0</td>\n",
       "      <td>0</td>\n",
       "      <td>0</td>\n",
       "      <td>...</td>\n",
       "      <td>0</td>\n",
       "      <td>0</td>\n",
       "      <td>0</td>\n",
       "      <td>1</td>\n",
       "      <td>0</td>\n",
       "      <td>0</td>\n",
       "      <td>0</td>\n",
       "      <td>0</td>\n",
       "      <td>14</td>\n",
       "      <td>3</td>\n",
       "    </tr>\n",
       "    <tr>\n",
       "      <th>2</th>\n",
       "      <td>0</td>\n",
       "      <td>2</td>\n",
       "      <td>0</td>\n",
       "      <td>0</td>\n",
       "      <td>0</td>\n",
       "      <td>0</td>\n",
       "      <td>0</td>\n",
       "      <td>0</td>\n",
       "      <td>0</td>\n",
       "      <td>0</td>\n",
       "      <td>...</td>\n",
       "      <td>0</td>\n",
       "      <td>0</td>\n",
       "      <td>0</td>\n",
       "      <td>0</td>\n",
       "      <td>0</td>\n",
       "      <td>0</td>\n",
       "      <td>0</td>\n",
       "      <td>0</td>\n",
       "      <td>22</td>\n",
       "      <td>4</td>\n",
       "    </tr>\n",
       "    <tr>\n",
       "      <th>3</th>\n",
       "      <td>0</td>\n",
       "      <td>1</td>\n",
       "      <td>0</td>\n",
       "      <td>0</td>\n",
       "      <td>0</td>\n",
       "      <td>0</td>\n",
       "      <td>0</td>\n",
       "      <td>0</td>\n",
       "      <td>0</td>\n",
       "      <td>0</td>\n",
       "      <td>...</td>\n",
       "      <td>0</td>\n",
       "      <td>0</td>\n",
       "      <td>0</td>\n",
       "      <td>0</td>\n",
       "      <td>0</td>\n",
       "      <td>0</td>\n",
       "      <td>1</td>\n",
       "      <td>0</td>\n",
       "      <td>28</td>\n",
       "      <td>6</td>\n",
       "    </tr>\n",
       "    <tr>\n",
       "      <th>4</th>\n",
       "      <td>0</td>\n",
       "      <td>1</td>\n",
       "      <td>0</td>\n",
       "      <td>0</td>\n",
       "      <td>0</td>\n",
       "      <td>0</td>\n",
       "      <td>0</td>\n",
       "      <td>0</td>\n",
       "      <td>0</td>\n",
       "      <td>0</td>\n",
       "      <td>...</td>\n",
       "      <td>0</td>\n",
       "      <td>0</td>\n",
       "      <td>0</td>\n",
       "      <td>0</td>\n",
       "      <td>0</td>\n",
       "      <td>0</td>\n",
       "      <td>0</td>\n",
       "      <td>0</td>\n",
       "      <td>14</td>\n",
       "      <td>3</td>\n",
       "    </tr>\n",
       "  </tbody>\n",
       "</table>\n",
       "<p>5 rows × 44 columns</p>\n",
       "</div>"
      ],
      "text/plain": [
       "   CARAVAN  NumOfPolicies  c1  c2  c3  c4  c5  c6  c7  c8    ...      c34  \\\n",
       "0        0              3   0   0   0   0   0   0   0   0    ...        0   \n",
       "1        0              3   0   0   0   0   0   0   0   0    ...        0   \n",
       "2        0              2   0   0   0   0   0   0   0   0    ...        0   \n",
       "3        0              1   0   0   0   0   0   0   0   0    ...        0   \n",
       "4        0              1   0   0   0   0   0   0   0   0    ...        0   \n",
       "\n",
       "   c35  c36  c37  c38  c39  c40  c41  EducationLevel  AvgIncome  \n",
       "0    0    0    1    0    0    0    0              14          5  \n",
       "1    0    0    1    0    0    0    0              14          3  \n",
       "2    0    0    0    0    0    0    0              22          4  \n",
       "3    0    0    0    0    0    1    0              28          6  \n",
       "4    0    0    0    0    0    0    0              14          3  \n",
       "\n",
       "[5 rows x 44 columns]"
      ]
     },
     "execution_count": 635,
     "metadata": {},
     "output_type": "execute_result"
    }
   ],
   "source": [
    "for x in range(1,86):\n",
    "    d3 = d3.drop([x], axis = 1)\n",
    "d3.head()"
   ]
  },
  {
   "cell_type": "markdown",
   "metadata": {},
   "source": [
    "## Tanítás"
   ]
  },
  {
   "cell_type": "markdown",
   "metadata": {},
   "source": [
    "### Adat előkészítése"
   ]
  },
  {
   "cell_type": "code",
   "execution_count": 641,
   "metadata": {
    "collapsed": false
   },
   "outputs": [
    {
     "data": {
      "text/html": [
       "<div>\n",
       "<table border=\"1\" class=\"dataframe\">\n",
       "  <thead>\n",
       "    <tr style=\"text-align: right;\">\n",
       "      <th></th>\n",
       "      <th>CARAVAN</th>\n",
       "      <th>NumOfPolicies</th>\n",
       "      <th>c1</th>\n",
       "      <th>c2</th>\n",
       "      <th>c3</th>\n",
       "      <th>c4</th>\n",
       "      <th>c5</th>\n",
       "      <th>c6</th>\n",
       "      <th>c7</th>\n",
       "      <th>c8</th>\n",
       "      <th>...</th>\n",
       "      <th>c34</th>\n",
       "      <th>c35</th>\n",
       "      <th>c36</th>\n",
       "      <th>c37</th>\n",
       "      <th>c38</th>\n",
       "      <th>c39</th>\n",
       "      <th>c40</th>\n",
       "      <th>c41</th>\n",
       "      <th>EducationLevel</th>\n",
       "      <th>AvgIncome</th>\n",
       "    </tr>\n",
       "  </thead>\n",
       "  <tbody>\n",
       "    <tr>\n",
       "      <th>1890</th>\n",
       "      <td>1</td>\n",
       "      <td>3</td>\n",
       "      <td>0</td>\n",
       "      <td>0</td>\n",
       "      <td>0</td>\n",
       "      <td>0</td>\n",
       "      <td>0</td>\n",
       "      <td>0</td>\n",
       "      <td>0</td>\n",
       "      <td>1</td>\n",
       "      <td>...</td>\n",
       "      <td>0</td>\n",
       "      <td>0</td>\n",
       "      <td>0</td>\n",
       "      <td>0</td>\n",
       "      <td>0</td>\n",
       "      <td>0</td>\n",
       "      <td>0</td>\n",
       "      <td>0</td>\n",
       "      <td>22</td>\n",
       "      <td>6</td>\n",
       "    </tr>\n",
       "    <tr>\n",
       "      <th>4702</th>\n",
       "      <td>0</td>\n",
       "      <td>1</td>\n",
       "      <td>0</td>\n",
       "      <td>0</td>\n",
       "      <td>1</td>\n",
       "      <td>0</td>\n",
       "      <td>0</td>\n",
       "      <td>0</td>\n",
       "      <td>0</td>\n",
       "      <td>0</td>\n",
       "      <td>...</td>\n",
       "      <td>0</td>\n",
       "      <td>0</td>\n",
       "      <td>0</td>\n",
       "      <td>0</td>\n",
       "      <td>0</td>\n",
       "      <td>0</td>\n",
       "      <td>0</td>\n",
       "      <td>0</td>\n",
       "      <td>13</td>\n",
       "      <td>4</td>\n",
       "    </tr>\n",
       "  </tbody>\n",
       "</table>\n",
       "<p>2 rows × 44 columns</p>\n",
       "</div>"
      ],
      "text/plain": [
       "      CARAVAN  NumOfPolicies  c1  c2  c3  c4  c5  c6  c7  c8    ...      c34  \\\n",
       "1890        1              3   0   0   0   0   0   0   0   1    ...        0   \n",
       "4702        0              1   0   0   1   0   0   0   0   0    ...        0   \n",
       "\n",
       "      c35  c36  c37  c38  c39  c40  c41  EducationLevel  AvgIncome  \n",
       "1890    0    0    0    0    0    0    0              22          6  \n",
       "4702    0    0    0    0    0    0    0              13          4  \n",
       "\n",
       "[2 rows x 44 columns]"
      ]
     },
     "execution_count": 641,
     "metadata": {},
     "output_type": "execute_result"
    }
   ],
   "source": [
    "random.seed(1)\n",
    "#shuffle data\n",
    "sd3 = d3.iloc[np.random.permutation(len(d3))]\n",
    "sd3.head(2)"
   ]
  },
  {
   "cell_type": "code",
   "execution_count": 642,
   "metadata": {
    "collapsed": false
   },
   "outputs": [
    {
     "name": "stdout",
     "output_type": "stream",
     "text": [
      "4365\n",
      "1456\n"
     ]
    }
   ],
   "source": [
    "# preprocess dataset, split into training and test part\n",
    "sd3_train, sd3_test = train_test_split(sd3, test_size=.25)\n",
    "print(len(sd3_train))\n",
    "print(len(sd3_test))"
   ]
  },
  {
   "cell_type": "markdown",
   "metadata": {},
   "source": [
    "### Classifierek összehasonlítása"
   ]
  },
  {
   "cell_type": "code",
   "execution_count": 643,
   "metadata": {
    "collapsed": false,
    "scrolled": false
   },
   "outputs": [
    {
     "data": {
      "text/html": [
       "<div>\n",
       "<table border=\"1\" class=\"dataframe\">\n",
       "  <thead>\n",
       "    <tr style=\"text-align: right;\">\n",
       "      <th></th>\n",
       "      <th>name</th>\n",
       "      <th>score</th>\n",
       "      <th>xval</th>\n",
       "    </tr>\n",
       "  </thead>\n",
       "  <tbody>\n",
       "    <tr>\n",
       "      <th>7</th>\n",
       "      <td>GradientBoostingClassifier</td>\n",
       "      <td>0.694775</td>\n",
       "      <td>0.802507</td>\n",
       "    </tr>\n",
       "    <tr>\n",
       "      <th>5</th>\n",
       "      <td>AdaBoost</td>\n",
       "      <td>0.720098</td>\n",
       "      <td>0.790128</td>\n",
       "    </tr>\n",
       "    <tr>\n",
       "      <th>3</th>\n",
       "      <td>Decision Tree</td>\n",
       "      <td>0.656724</td>\n",
       "      <td>0.767205</td>\n",
       "    </tr>\n",
       "    <tr>\n",
       "      <th>4</th>\n",
       "      <td>Random Forest</td>\n",
       "      <td>0.662758</td>\n",
       "      <td>0.766867</td>\n",
       "    </tr>\n",
       "    <tr>\n",
       "      <th>2</th>\n",
       "      <td>RBF SVM</td>\n",
       "      <td>0.606034</td>\n",
       "      <td>0.675555</td>\n",
       "    </tr>\n",
       "    <tr>\n",
       "      <th>1</th>\n",
       "      <td>Linear SVM</td>\n",
       "      <td>0.637004</td>\n",
       "      <td>0.646414</td>\n",
       "    </tr>\n",
       "    <tr>\n",
       "      <th>0</th>\n",
       "      <td>Nearest Neighbors</td>\n",
       "      <td>0.56376</td>\n",
       "      <td>0.590441</td>\n",
       "    </tr>\n",
       "    <tr>\n",
       "      <th>6</th>\n",
       "      <td>Naive Bayes</td>\n",
       "      <td>0.536698</td>\n",
       "      <td>0.543876</td>\n",
       "    </tr>\n",
       "  </tbody>\n",
       "</table>\n",
       "</div>"
      ],
      "text/plain": [
       "                         name     score      xval\n",
       "7  GradientBoostingClassifier  0.694775  0.802507\n",
       "5                    AdaBoost  0.720098  0.790128\n",
       "3               Decision Tree  0.656724  0.767205\n",
       "4               Random Forest  0.662758  0.766867\n",
       "2                     RBF SVM  0.606034  0.675555\n",
       "1                  Linear SVM  0.637004  0.646414\n",
       "0           Nearest Neighbors   0.56376  0.590441\n",
       "6                 Naive Bayes  0.536698  0.543876"
      ]
     },
     "execution_count": 643,
     "metadata": {},
     "output_type": "execute_result"
    }
   ],
   "source": [
    "#!!! ezt a cellát futtatni időigényes\n",
    "names = [\"Nearest Neighbors\", \"Linear SVM\", \"RBF SVM\", \"Decision Tree\",\n",
    "         \"Random Forest\", \"AdaBoost\", \"Naive Bayes\", \"GradientBoostingClassifier\"]\n",
    "\n",
    "classifiers = [\n",
    "    KNeighborsClassifier(3),\n",
    "    SVC(kernel=\"linear\", C=0.025, probability=True),\n",
    "    SVC(gamma=2, C=1, probability=True),\n",
    "    DecisionTreeClassifier(max_depth=5),\n",
    "    RandomForestClassifier(max_depth=5, n_estimators=10, max_features=1),\n",
    "    AdaBoostClassifier(),\n",
    "    GaussianNB(),\n",
    "    ens.GradientBoostingClassifier()]\n",
    "\n",
    "i = 0\n",
    "tbl = pd.DataFrame(columns=['name', 'score', 'xval'], index=range(0,10))\n",
    "\n",
    "for name, clf in zip(names, classifiers):\n",
    "        #print(name)\n",
    "        clf.fit(sd3_train.drop('CARAVAN', axis=1), sd3_train['CARAVAN'])\n",
    "        pred = clf.predict(sd3_test.drop('CARAVAN', axis=1)) #tesztelés\n",
    "        prob = clf.predict_proba(sd3_test.drop('CARAVAN', axis=1))[:,1]\n",
    "        #auc érték számítása\n",
    "        #print('\\nAUC érték:')\n",
    "        auc = auc_score(sd3_test['CARAVAN'], prob)\n",
    "        #print(auc)\n",
    "\n",
    "        #roc görbe\n",
    "        #print('\\nROC görbe:')\n",
    "        fpr, tpr, thresholds = roc(sd3_test['CARAVAN'], prob)\n",
    "        #plt.plot(fpr, tpr)\n",
    "        #plt.show()\n",
    "        # print('\\nKeresztvalidáció: a 10 pontosságérték:')\n",
    "        sc = xval.cross_val_score(clf, sd3.drop('CARAVAN', axis=1), sd3['CARAVAN'], cv = 10, n_jobs=-1, scoring='roc_auc')\n",
    "        #print(sc)\n",
    "        \n",
    "        tbl.loc[i] = [name, auc, max(sc)]\n",
    "        i = i + 1         \n",
    "        # print('-------------------------------------------------')\n",
    "tbl = tbl.sort_values(['xval', 'score'], ascending=False)\n",
    "tbl.head(8)"
   ]
  },
  {
   "cell_type": "markdown",
   "metadata": {},
   "source": [
    "Több különböző paraméter, 10-es keresztvalidáció és változó méretű train-test setek mellett is a GradientBoostingClassifier bizonyult a legjobbnak."
   ]
  },
  {
   "cell_type": "markdown",
   "metadata": {},
   "source": [
    "### Összefoglalás, ROC görbe"
   ]
  },
  {
   "cell_type": "code",
   "execution_count": 644,
   "metadata": {
    "collapsed": false
   },
   "outputs": [
    {
     "name": "stdout",
     "output_type": "stream",
     "text": [
      "\n",
      "AUC érték:\n",
      "0.694775188182\n",
      "\n",
      "ROC görbe:\n"
     ]
    },
    {
     "data": {
      "image/png": "[encoded data removed]",
      "text/plain": [
       "<matplotlib.figure.Figure at 0x7f5125149470>"
      ]
     },
     "metadata": {},
     "output_type": "display_data"
    }
   ],
   "source": [
    "#modellezés\n",
    "clf = ens.GradientBoostingClassifier()\n",
    "#clf = SVC(gamma=0, C=15, probability=True) \n",
    "#clf = KNeighborsClassifier(5)\n",
    "clf = clf.fit(sd3_train.drop('CARAVAN', axis=1), sd3_train['CARAVAN']) #tanítás\n",
    "pred = clf.predict(sd3_test.drop('CARAVAN', axis=1)) #tesztelés\n",
    "prob = clf.predict_proba(sd3_test.drop('CARAVAN', axis=1))[:,1]\n",
    "\n",
    "#auc érték számítása\n",
    "print('\\nAUC érték:')\n",
    "print(auc_score(sd3_test['CARAVAN'], prob))\n",
    "\n",
    "#roc görbe\n",
    "print('\\nROC görbe:')\n",
    "fpr, tpr, thresholds = roc(sd3_test['CARAVAN'], prob)\n",
    "plt.plot(fpr, tpr)\n",
    "plt.show()"
   ]
  },
  {
   "cell_type": "markdown",
   "metadata": {},
   "source": [
    "Források:\n",
    " - Előző két házim\n",
    " - http://scikit-learn.org/stable/auto_examples/classification/plot_classifier_comparison.html#\n",
    " - https://github.com/amueller/scipy_2015_sklearn_tutorial"
   ]
  }
 ],
 "metadata": {
  "kernelspec": {
   "display_name": "Python 3",
   "language": "python",
   "name": "python3"
  },
  "language_info": {
   "codemirror_mode": {
    "name": "ipython",
    "version": 3
   },
   "file_extension": ".py",
   "mimetype": "text/x-python",
   "name": "python",
   "nbconvert_exporter": "python",
   "pygments_lexer": "ipython3",
   "version": "3.4.3"
  }
 },
 "nbformat": 4,
 "nbformat_minor": 0
}
